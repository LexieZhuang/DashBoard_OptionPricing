{
 "cells": [
  {
   "cell_type": "code",
   "execution_count": 1,
   "metadata": {},
   "outputs": [
    {
     "name": "stdout",
     "output_type": "stream",
     "text": [
      "Requirement already satisfied: yfinance in /opt/miniconda3/lib/python3.12/site-packages (0.2.48)\n",
      "Collecting yfinance\n",
      "  Downloading yfinance-0.2.54-py2.py3-none-any.whl.metadata (5.8 kB)\n",
      "Requirement already satisfied: pandas>=1.3.0 in /opt/miniconda3/lib/python3.12/site-packages (from yfinance) (2.2.2)\n",
      "Requirement already satisfied: numpy>=1.16.5 in /opt/miniconda3/lib/python3.12/site-packages (from yfinance) (1.26.4)\n",
      "Requirement already satisfied: requests>=2.31 in /opt/miniconda3/lib/python3.12/site-packages (from yfinance) (2.31.0)\n",
      "Requirement already satisfied: multitasking>=0.0.7 in /opt/miniconda3/lib/python3.12/site-packages (from yfinance) (0.0.11)\n",
      "Requirement already satisfied: platformdirs>=2.0.0 in /opt/miniconda3/lib/python3.12/site-packages (from yfinance) (3.10.0)\n",
      "Requirement already satisfied: pytz>=2022.5 in /opt/miniconda3/lib/python3.12/site-packages (from yfinance) (2024.1)\n",
      "Requirement already satisfied: frozendict>=2.3.4 in /opt/miniconda3/lib/python3.12/site-packages (from yfinance) (2.4.6)\n",
      "Requirement already satisfied: peewee>=3.16.2 in /opt/miniconda3/lib/python3.12/site-packages (from yfinance) (3.17.7)\n",
      "Requirement already satisfied: beautifulsoup4>=4.11.1 in /opt/miniconda3/lib/python3.12/site-packages (from yfinance) (4.12.3)\n",
      "Requirement already satisfied: soupsieve>1.2 in /opt/miniconda3/lib/python3.12/site-packages (from beautifulsoup4>=4.11.1->yfinance) (2.6)\n",
      "Requirement already satisfied: python-dateutil>=2.8.2 in /opt/miniconda3/lib/python3.12/site-packages (from pandas>=1.3.0->yfinance) (2.9.0.post0)\n",
      "Requirement already satisfied: tzdata>=2022.7 in /opt/miniconda3/lib/python3.12/site-packages (from pandas>=1.3.0->yfinance) (2024.1)\n",
      "Requirement already satisfied: charset-normalizer<4,>=2 in /opt/miniconda3/lib/python3.12/site-packages (from requests>=2.31->yfinance) (2.0.4)\n",
      "Requirement already satisfied: idna<4,>=2.5 in /opt/miniconda3/lib/python3.12/site-packages (from requests>=2.31->yfinance) (3.4)\n",
      "Requirement already satisfied: urllib3<3,>=1.21.1 in /opt/miniconda3/lib/python3.12/site-packages (from requests>=2.31->yfinance) (2.1.0)\n",
      "Requirement already satisfied: certifi>=2017.4.17 in /opt/miniconda3/lib/python3.12/site-packages (from requests>=2.31->yfinance) (2024.2.2)\n",
      "Requirement already satisfied: six>=1.5 in /opt/miniconda3/lib/python3.12/site-packages (from python-dateutil>=2.8.2->pandas>=1.3.0->yfinance) (1.16.0)\n",
      "Downloading yfinance-0.2.54-py2.py3-none-any.whl (108 kB)\n",
      "\u001b[2K   \u001b[90m━━━━━━━━━━━━━━━━━━━━━━━━━━━━━━━━━━━━━━━━\u001b[0m \u001b[32m108.7/108.7 kB\u001b[0m \u001b[31m3.5 MB/s\u001b[0m eta \u001b[36m0:00:00\u001b[0m\n",
      "\u001b[?25hInstalling collected packages: yfinance\n",
      "  Attempting uninstall: yfinance\n",
      "    Found existing installation: yfinance 0.2.48\n",
      "    Uninstalling yfinance-0.2.48:\n",
      "      Successfully uninstalled yfinance-0.2.48\n",
      "Successfully installed yfinance-0.2.54\n",
      "Note: you may need to restart the kernel to use updated packages.\n"
     ]
    }
   ],
   "source": [
    "pip install yfinance --upgrade --no-cache-dir"
   ]
  },
  {
   "cell_type": "code",
   "execution_count": 2,
   "metadata": {},
   "outputs": [
    {
     "name": "stderr",
     "output_type": "stream",
     "text": [
      "[*********************100%***********************]  1 of 1 completed\n"
     ]
    },
    {
     "data": {
      "application/vnd.microsoft.datawrangler.viewer.v0+json": {
       "columns": [
        {
         "name": "Date",
         "rawType": "datetime64[ns]",
         "type": "datetime"
        },
        {
         "name": "('Close', 'AAPL')",
         "rawType": "float64",
         "type": "float"
        },
        {
         "name": "('High', 'AAPL')",
         "rawType": "float64",
         "type": "float"
        },
        {
         "name": "('Low', 'AAPL')",
         "rawType": "float64",
         "type": "float"
        },
        {
         "name": "('Open', 'AAPL')",
         "rawType": "float64",
         "type": "float"
        },
        {
         "name": "('Volume', 'AAPL')",
         "rawType": "int64",
         "type": "integer"
        }
       ],
       "conversionMethod": "pd.DataFrame",
       "ref": "176f8e1c-cf55-47b1-b626-f6ce9a88418d",
       "rows": [
        [
         "2014-01-02 00:00:00",
         "17.215370178222656",
         "17.3367523172604",
         "17.180823491046027",
         "17.29473580655742",
         "234684800"
        ],
        [
         "2014-01-03 00:00:00",
         "16.837215423583984",
         "17.23310599170185",
         "16.820096667029816",
         "17.206963278517662",
         "392467600"
        ],
        [
         "2014-01-06 00:00:00",
         "16.929033279418945",
         "17.018357008630502",
         "16.607526695322754",
         "16.72735303445934",
         "412610800"
        ],
        [
         "2014-01-07 00:00:00",
         "16.807960510253906",
         "16.992211133087164",
         "16.741978744753187",
         "16.941169011588876",
         "317209200"
        ],
        [
         "2014-01-08 00:00:00",
         "16.914409637451172",
         "16.979768112419688",
         "16.765950606646058",
         "16.769683856939267",
         "258529600"
        ],
        [
         "2014-01-09 00:00:00",
         "16.69840431213379",
         "17.020221654481514",
         "16.66198934644905",
         "17.018353367945558",
         "279148800"
        ],
        [
         "2014-01-10 00:00:00",
         "16.586984634399414",
         "16.831615519810086",
         "16.530028480708353",
         "16.801425400756482",
         "304976000"
        ],
        [
         "2014-01-13 00:00:00",
         "16.673816680908203",
         "16.884522492813755",
         "16.491743522462873",
         "16.492677665690824",
         "378492800"
        ],
        [
         "2014-01-14 00:00:00",
         "17.005596160888672",
         "17.01617757837035",
         "16.733886768796346",
         "16.75131635467647",
         "332561600"
        ],
        [
         "2014-01-15 00:00:00",
         "17.34701919555664",
         "17.435410426186085",
         "17.169615080225473",
         "17.227505369073537",
         "391638800"
        ],
        [
         "2014-01-16 00:00:00",
         "17.250232696533203",
         "17.33115413823512",
         "17.170243736319964",
         "17.270463056958683",
         "229278000"
        ],
        [
         "2014-01-17 00:00:00",
         "16.827571868896484",
         "17.1823801942109",
         "16.803606599364098",
         "17.164018123707066",
         "426739600"
        ],
        [
         "2014-01-21 00:00:00",
         "17.089008331298828",
         "17.120130931105525",
         "16.81978886721577",
         "16.837529281002187",
         "328526800"
        ],
        [
         "2014-01-22 00:00:00",
         "17.164945602416992",
         "17.344837974354945",
         "17.04978835496272",
         "17.14627104986797",
         "379985200"
        ],
        [
         "2014-01-23 00:00:00",
         "17.31028938293457",
         "17.32024914319174",
         "16.95641537772247",
         "17.116079044448597",
         "403239200"
        ],
        [
         "2014-01-24 00:00:00",
         "16.995634078979492",
         "17.292862830868774",
         "16.954550060723896",
         "17.24244236682519",
         "429354800"
        ],
        [
         "2014-01-27 00:00:00",
         "17.13351058959961",
         "17.267342403120864",
         "16.985674937972682",
         "17.120128405553462",
         "554878800"
        ],
        [
         "2014-01-28 00:00:00",
         "15.764081001281738",
         "16.02862978472724",
         "15.626201748365844",
         "15.834419349772315",
         "1065523200"
        ],
        [
         "2014-01-29 00:00:00",
         "15.585118293762207",
         "15.79115676663788",
         "15.518825688958117",
         "15.684714276693686",
         "502810000"
        ],
        [
         "2014-01-30 00:00:00",
         "15.554930686950684",
         "15.76408245112531",
         "15.459071262396007",
         "15.64083200756218",
         "678501600"
        ],
        [
         "2014-01-31 00:00:00",
         "15.58044719696045",
         "15.609392343232914",
         "15.361026565908682",
         "15.411757863105299",
         "464797200"
        ],
        [
         "2014-02-03 00:00:00",
         "15.60939884185791",
         "15.80236600995299",
         "15.539994621932419",
         "15.643013056671782",
         "401464000"
        ],
        [
         "2014-02-04 00:00:00",
         "15.83535099029541",
         "15.856204663129148",
         "15.647676245676843",
         "15.74384814560409",
         "376681200"
        ],
        [
         "2014-02-05 00:00:00",
         "15.953619956970215",
         "16.037342142778865",
         "15.75629629427911",
         "15.76594523089924",
         "328344800"
        ],
        [
         "2014-02-06 00:00:00",
         "16.046602249145508",
         "16.077600111132565",
         "15.899445174917814",
         "15.969893493149378",
         "257765200"
        ],
        [
         "2014-02-07 00:00:00",
         "16.271108627319336",
         "16.372865917765637",
         "16.199096804620126",
         "16.324335774956946",
         "370280400"
        ],
        [
         "2014-02-10 00:00:00",
         "16.562593460083008",
         "16.656523465009425",
         "16.21849835907947",
         "16.239162491968006",
         "345559200"
        ],
        [
         "2014-02-11 00:00:00",
         "16.78083610534668",
         "16.836879119213364",
         "16.578572259919365",
         "16.61332742292268",
         "282256800"
        ],
        [
         "2014-02-12 00:00:00",
         "16.77958106994629",
         "16.893549906476082",
         "16.69567206167284",
         "16.81183138465843",
         "308100800"
        ],
        [
         "2014-02-13 00:00:00",
         "17.0460205078125",
         "17.059170108117677",
         "16.72571972103001",
         "16.74012174384645",
         "307398000"
        ],
        [
         "2014-02-14 00:00:00",
         "17.032249450683594",
         "17.09455791521909",
         "16.945210229352348",
         "16.984659047089014",
         "272924400"
        ],
        [
         "2014-02-18 00:00:00",
         "17.09487533569336",
         "17.257685360276156",
         "17.082976477405325",
         "17.09518802350953",
         "260251600"
        ],
        [
         "2014-02-19 00:00:00",
         "16.82497215270996",
         "17.123042022555993",
         "16.730416761086286",
         "17.056038254115865",
         "313768000"
        ],
        [
         "2014-02-20 00:00:00",
         "16.630231857299805",
         "16.813394967277443",
         "16.56291537201621",
         "16.687841645850547",
         "305858000"
        ],
        [
         "2014-02-21 00:00:00",
         "16.445497512817383",
         "16.737305288213875",
         "16.42514606373135",
         "16.68157331893958",
         "278784800"
        ],
        [
         "2014-02-24 00:00:00",
         "16.51751136779785",
         "16.591716997606774",
         "16.35689358473133",
         "16.379749881857343",
         "288909600"
        ],
        [
         "2014-02-25 00:00:00",
         "16.34562110900879",
         "16.58075719988737",
         "16.312432743602784",
         "16.57480944617167",
         "231952000"
        ],
        [
         "2014-02-26 00:00:00",
         "16.198152542114258",
         "16.437672967414485",
         "16.143360298889544",
         "16.394152529352667",
         "276217200"
        ],
        [
         "2014-02-27 00:00:00",
         "16.521270751953125",
         "16.556024230058867",
         "16.157449458349987",
         "16.191577561128",
         "301882000"
        ],
        [
         "2014-02-28 00:00:00",
         "16.47649574279785",
         "16.68032292563898",
         "16.347497885201175",
         "16.56541440447076",
         "371968800"
        ],
        [
         "2014-03-03 00:00:00",
         "16.52408218383789",
         "16.614567606268817",
         "16.369097848012498",
         "16.388196870354335",
         "238781200"
        ],
        [
         "2014-03-04 00:00:00",
         "16.63304901123047",
         "16.676883817266578",
         "16.52440423963444",
         "16.625536145179726",
         "259140000"
        ],
        [
         "2014-03-05 00:00:00",
         "16.668109893798828",
         "16.74293921233941",
         "16.566978030496262",
         "16.6230243556922",
         "200062800"
        ],
        [
         "2014-03-06 00:00:00",
         "16.617706298828125",
         "16.733240226557246",
         "16.534735368010413",
         "16.681578197566033",
         "185488800"
        ],
        [
         "2014-03-07 00:00:00",
         "16.607999801635742",
         "16.656217245182837",
         "16.470549320396497",
         "16.62835125486822",
         "220729600"
        ],
        [
         "2014-03-10 00:00:00",
         "16.623027801513672",
         "16.698484183012084",
         "16.542247369164507",
         "16.54287441661081",
         "178584000"
        ],
        [
         "2014-03-11 00:00:00",
         "16.784894943237305",
         "16.86786584617452",
         "16.675310479414385",
         "16.764857854766998",
         "279224400"
        ],
        [
         "2014-03-12 00:00:00",
         "16.801177978515625",
         "16.824346961519087",
         "16.656840030128013",
         "16.735428297461997",
         "199326400"
        ],
        [
         "2014-03-13 00:00:00",
         "16.61457061767578",
         "16.896671689752964",
         "16.56791829584781",
         "16.827164746607977",
         "257742800"
        ],
        [
         "2014-03-14 00:00:00",
         "16.427968978881836",
         "16.62208950808185",
         "16.375054530457014",
         "16.55633814322292",
         "237199200"
        ]
       ],
       "shape": {
        "columns": 5,
        "rows": 2740
       }
      },
      "text/html": [
       "<div>\n",
       "<style scoped>\n",
       "    .dataframe tbody tr th:only-of-type {\n",
       "        vertical-align: middle;\n",
       "    }\n",
       "\n",
       "    .dataframe tbody tr th {\n",
       "        vertical-align: top;\n",
       "    }\n",
       "\n",
       "    .dataframe thead tr th {\n",
       "        text-align: left;\n",
       "    }\n",
       "\n",
       "    .dataframe thead tr:last-of-type th {\n",
       "        text-align: right;\n",
       "    }\n",
       "</style>\n",
       "<table border=\"1\" class=\"dataframe\">\n",
       "  <thead>\n",
       "    <tr>\n",
       "      <th>Price</th>\n",
       "      <th>Close</th>\n",
       "      <th>High</th>\n",
       "      <th>Low</th>\n",
       "      <th>Open</th>\n",
       "      <th>Volume</th>\n",
       "    </tr>\n",
       "    <tr>\n",
       "      <th>Ticker</th>\n",
       "      <th>AAPL</th>\n",
       "      <th>AAPL</th>\n",
       "      <th>AAPL</th>\n",
       "      <th>AAPL</th>\n",
       "      <th>AAPL</th>\n",
       "    </tr>\n",
       "    <tr>\n",
       "      <th>Date</th>\n",
       "      <th></th>\n",
       "      <th></th>\n",
       "      <th></th>\n",
       "      <th></th>\n",
       "      <th></th>\n",
       "    </tr>\n",
       "  </thead>\n",
       "  <tbody>\n",
       "    <tr>\n",
       "      <th>2014-01-02</th>\n",
       "      <td>17.215370</td>\n",
       "      <td>17.336752</td>\n",
       "      <td>17.180823</td>\n",
       "      <td>17.294736</td>\n",
       "      <td>234684800</td>\n",
       "    </tr>\n",
       "    <tr>\n",
       "      <th>2014-01-03</th>\n",
       "      <td>16.837215</td>\n",
       "      <td>17.233106</td>\n",
       "      <td>16.820097</td>\n",
       "      <td>17.206963</td>\n",
       "      <td>392467600</td>\n",
       "    </tr>\n",
       "    <tr>\n",
       "      <th>2014-01-06</th>\n",
       "      <td>16.929033</td>\n",
       "      <td>17.018357</td>\n",
       "      <td>16.607527</td>\n",
       "      <td>16.727353</td>\n",
       "      <td>412610800</td>\n",
       "    </tr>\n",
       "    <tr>\n",
       "      <th>2014-01-07</th>\n",
       "      <td>16.807961</td>\n",
       "      <td>16.992211</td>\n",
       "      <td>16.741979</td>\n",
       "      <td>16.941169</td>\n",
       "      <td>317209200</td>\n",
       "    </tr>\n",
       "    <tr>\n",
       "      <th>2014-01-08</th>\n",
       "      <td>16.914410</td>\n",
       "      <td>16.979768</td>\n",
       "      <td>16.765951</td>\n",
       "      <td>16.769684</td>\n",
       "      <td>258529600</td>\n",
       "    </tr>\n",
       "    <tr>\n",
       "      <th>...</th>\n",
       "      <td>...</td>\n",
       "      <td>...</td>\n",
       "      <td>...</td>\n",
       "      <td>...</td>\n",
       "      <td>...</td>\n",
       "    </tr>\n",
       "    <tr>\n",
       "      <th>2024-11-13</th>\n",
       "      <td>224.872757</td>\n",
       "      <td>226.401075</td>\n",
       "      <td>222.515348</td>\n",
       "      <td>223.763975</td>\n",
       "      <td>48566200</td>\n",
       "    </tr>\n",
       "    <tr>\n",
       "      <th>2024-11-14</th>\n",
       "      <td>227.969360</td>\n",
       "      <td>228.618640</td>\n",
       "      <td>224.752895</td>\n",
       "      <td>224.772878</td>\n",
       "      <td>44923900</td>\n",
       "    </tr>\n",
       "    <tr>\n",
       "      <th>2024-11-15</th>\n",
       "      <td>224.752884</td>\n",
       "      <td>226.670773</td>\n",
       "      <td>224.023690</td>\n",
       "      <td>226.151340</td>\n",
       "      <td>47923700</td>\n",
       "    </tr>\n",
       "    <tr>\n",
       "      <th>2024-11-18</th>\n",
       "      <td>227.769577</td>\n",
       "      <td>229.487689</td>\n",
       "      <td>224.922701</td>\n",
       "      <td>225.002615</td>\n",
       "      <td>44686000</td>\n",
       "    </tr>\n",
       "    <tr>\n",
       "      <th>2024-11-19</th>\n",
       "      <td>228.029282</td>\n",
       "      <td>229.907222</td>\n",
       "      <td>226.411066</td>\n",
       "      <td>226.730706</td>\n",
       "      <td>36211800</td>\n",
       "    </tr>\n",
       "  </tbody>\n",
       "</table>\n",
       "<p>2740 rows × 5 columns</p>\n",
       "</div>"
      ],
      "text/plain": [
       "Price            Close        High         Low        Open     Volume\n",
       "Ticker            AAPL        AAPL        AAPL        AAPL       AAPL\n",
       "Date                                                                 \n",
       "2014-01-02   17.215370   17.336752   17.180823   17.294736  234684800\n",
       "2014-01-03   16.837215   17.233106   16.820097   17.206963  392467600\n",
       "2014-01-06   16.929033   17.018357   16.607527   16.727353  412610800\n",
       "2014-01-07   16.807961   16.992211   16.741979   16.941169  317209200\n",
       "2014-01-08   16.914410   16.979768   16.765951   16.769684  258529600\n",
       "...                ...         ...         ...         ...        ...\n",
       "2024-11-13  224.872757  226.401075  222.515348  223.763975   48566200\n",
       "2024-11-14  227.969360  228.618640  224.752895  224.772878   44923900\n",
       "2024-11-15  224.752884  226.670773  224.023690  226.151340   47923700\n",
       "2024-11-18  227.769577  229.487689  224.922701  225.002615   44686000\n",
       "2024-11-19  228.029282  229.907222  226.411066  226.730706   36211800\n",
       "\n",
       "[2740 rows x 5 columns]"
      ]
     },
     "execution_count": 2,
     "metadata": {},
     "output_type": "execute_result"
    }
   ],
   "source": [
    "import yfinance as yf\n",
    "data = yf.download(\"AAPL\", start=\"2014-01-02\", end=\"2024-11-20\")\n",
    "data"
   ]
  },
  {
   "cell_type": "code",
   "execution_count": 9,
   "metadata": {},
   "outputs": [
    {
     "data": {
      "text/plain": [
       "DatetimeIndex(['2014-01-02', '2014-01-03', '2014-01-06', '2014-01-07',\n",
       "               '2014-01-08', '2014-01-09', '2014-01-10', '2014-01-13',\n",
       "               '2014-01-14', '2014-01-15',\n",
       "               ...\n",
       "               '2024-11-06', '2024-11-07', '2024-11-08', '2024-11-11',\n",
       "               '2024-11-12', '2024-11-13', '2024-11-14', '2024-11-15',\n",
       "               '2024-11-18', '2024-11-19'],\n",
       "              dtype='datetime64[ns]', name='Date', length=2740, freq=None)"
      ]
     },
     "execution_count": 9,
     "metadata": {},
     "output_type": "execute_result"
    }
   ],
   "source": [
    "data.index"
   ]
  },
  {
   "cell_type": "code",
   "execution_count": 33,
   "metadata": {},
   "outputs": [
    {
     "name": "stderr",
     "output_type": "stream",
     "text": [
      "DEBUG:yfinance:Entering download()\n",
      "DEBUG:yfinance:Disabling multithreading because DEBUG logging enabled\n",
      "DEBUG:yfinance: Entering history()\n",
      "DEBUG:peewee:('SELECT \"t1\".\"key\", \"t1\".\"value\" FROM \"_kv\" AS \"t1\" WHERE (\"t1\".\"key\" = ?) LIMIT ? OFFSET ?', ['AAPL', 1, 0])\n",
      "DEBUG:yfinance:  Entering history()\n",
      "DEBUG:yfinance:AAPL: Yahoo GET parameters: {'period1': '2014-01-02 00:00:00-05:00', 'period2': '2024-11-20 00:00:00-05:00', 'interval': '1d', 'includePrePost': False, 'events': 'div,splits,capitalGains'}\n",
      "DEBUG:yfinance: Entering history()\n",
      "DEBUG:peewee:('SELECT \"t1\".\"key\", \"t1\".\"value\" FROM \"_kv\" AS \"t1\" WHERE (\"t1\".\"key\" = ?) LIMIT ? OFFSET ?', ['AMD', 1, 0])\n",
      "DEBUG:yfinance:  Entering history()\n",
      "DEBUG:yfinance:AMD: Yahoo GET parameters: {'period1': '2014-01-02 00:00:00-05:00', 'period2': '2024-11-20 00:00:00-05:00', 'interval': '1d', 'includePrePost': False, 'events': 'div,splits,capitalGains'}\n",
      "ERROR:yfinance:\n",
      "2 Failed downloads:\n",
      "ERROR:yfinance:['AAPL', 'AMD']: JSONDecodeError('Expecting value: line 1 column 1 (char 0)')\n",
      "DEBUG:yfinance:['AAPL', 'AMD']: Traceback (most recent call last):\n",
      "  File \"/Users/apple/anaconda3/envs/my-env/lib/python3.12/site-packages/requests/models.py\", line 971, in json\n",
      "    return complexjson.loads(self.text, **kwargs)\n",
      "           ^^^^^^^^^^^^^^^^^^^^^^^^^^^^^^^^^^^^^^\n",
      "  File \"/Users/apple/anaconda3/envs/my-env/lib/python3.12/json/__init__.py\", line 346, in loads\n",
      "    return _default_decoder.decode(s)\n",
      "           ^^^^^^^^^^^^^^^^^^^^^^^^^^\n",
      "  File \"/Users/apple/anaconda3/envs/my-env/lib/python3.12/json/decoder.py\", line 337, in decode\n",
      "    obj, end = self.raw_decode(s, idx=_w(s, 0).end())\n",
      "               ^^^^^^^^^^^^^^^^^^^^^^^^^^^^^^^^^^^^^^\n",
      "  File \"/Users/apple/anaconda3/envs/my-env/lib/python3.12/json/decoder.py\", line 355, in raw_decode\n",
      "    raise JSONDecodeError(\"Expecting value\", s, err.value) from None\n",
      "json.decoder.JSONDecodeError: Expecting value: line 1 column 1 (char 0)\n",
      "\n",
      "During handling of the above exception, another exception occurred:\n",
      "\n",
      "Traceback (most recent call last):\n",
      "  File \"/Users/apple/anaconda3/envs/my-env/lib/python3.12/site-packages/yfinance/multi.py\", line 268, in _download_one\n",
      "    data = Ticker(ticker).history(\n",
      "           ^^^^^^^^^^^^^^^^^^^^^^^\n",
      "  File \"/Users/apple/anaconda3/envs/my-env/lib/python3.12/site-packages/yfinance/utils.py\", line 104, in wrapper\n",
      "    result = func(*args, **kwargs)\n",
      "             ^^^^^^^^^^^^^^^^^^^^^\n",
      "  File \"/Users/apple/anaconda3/envs/my-env/lib/python3.12/site-packages/yfinance/base.py\", line 80, in history\n",
      "    return self._lazy_load_price_history().history(*args, **kwargs)\n",
      "           ^^^^^^^^^^^^^^^^^^^^^^^^^^^^^^^^^^^^^^^^^^^^^^^^^^^^^^^^\n",
      "  File \"/Users/apple/anaconda3/envs/my-env/lib/python3.12/site-packages/yfinance/utils.py\", line 104, in wrapper\n",
      "    result = func(*args, **kwargs)\n",
      "             ^^^^^^^^^^^^^^^^^^^^^\n",
      "  File \"/Users/apple/anaconda3/envs/my-env/lib/python3.12/site-packages/yfinance/scrapers/history.py\", line 185, in history\n",
      "    data = data.json()\n",
      "           ^^^^^^^^^^^\n",
      "  File \"/Users/apple/anaconda3/envs/my-env/lib/python3.12/site-packages/requests/models.py\", line 975, in json\n",
      "    raise RequestsJSONDecodeError(e.msg, e.doc, e.pos)\n",
      "requests.exceptions.JSONDecodeError: Expecting value: line 1 column 1 (char 0)\n",
      "\n",
      "DEBUG:yfinance:Exiting download()\n"
     ]
    }
   ],
   "source": [
    "data = yf.download([\"AAPL\", \"AMD\"], start=\"2014-01-02\", end=\"2024-11-20\", progress=False)"
   ]
  },
  {
   "cell_type": "markdown",
   "metadata": {},
   "source": []
  }
 ],
 "metadata": {
  "kernelspec": {
   "display_name": "my-env",
   "language": "python",
   "name": "python3"
  },
  "language_info": {
   "codemirror_mode": {
    "name": "ipython",
    "version": 3
   },
   "file_extension": ".py",
   "mimetype": "text/x-python",
   "name": "python",
   "nbconvert_exporter": "python",
   "pygments_lexer": "ipython3",
   "version": "3.12.2"
  }
 },
 "nbformat": 4,
 "nbformat_minor": 2
}
